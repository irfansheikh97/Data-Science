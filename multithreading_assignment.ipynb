{
 "cells": [
  {
   "cell_type": "markdown",
   "source": [
    "1.What is Multi Threading in Python? Why it is used? Name the module used to handle threads in python.\n",
    "\n",
    "Multithreading in Python is a programming technique that allows a program to perform multiple tasks simultaneously within a single process. It involves creating multiple threads of execution within a single program, with each thread running concurrently and independently.\n",
    "\n",
    "Multithreading is used in Python to improve the performance of programs by allowing them to execute multiple tasks simultaneously, thereby reducing the time taken to execute the program. This is particularly useful when working with time-consuming operations such as file I/O, network I/O, or CPU-bound computations.\n",
    "\n",
    "Python provides a built-in module called threading to handle threads. This module allows developers to create, start, pause, resume, and stop threads in Python programs. It also provides synchronization primitives such as locks, semaphores, and conditions that can be used to coordinate the activities of multiple threads.\n",
    "\n",
    "The threading module in Python uses a high-level approach to threading, making it easy to use and understand. It abstracts away many of the low-level details of thread management, making it easier to write thread-safe code in Python."
   ],
   "metadata": {
    "collapsed": false
   },
   "id": "130d98020923dfe2"
  },
  {
   "cell_type": "markdown",
   "source": [
    "2.Why Threading Module is used ? Write the use of following functions\n",
    "1.activeCount()\n",
    "2.currentThread()\n",
    "3.enumerate\n",
    "\n",
    "The threading module in Python is used to create, manage, and work with threads in Python programs. It provides a high-level interface to manage threads and allows developers to create multi-threaded applications with ease. The module provides several functions that help developers manage threads effectively.\n",
    "\n",
    "Here's the use of the following functions:\n",
    "\n",
    "activeCount(): This function is used to return the number of currently active threads in the program. It can be useful in determining whether all the threads in the program have completed execution, or to keep track of the number of threads currently running.\n",
    "\n",
    "currentThread(): This function is used to return a reference to the currently executing thread. It can be used to access the properties of the thread, such as its name or thread ID, and to perform operations such as pausing or resuming the thread.\n",
    "\n",
    "enumerate(): This function is used to return a list of all currently active threads in the program. It can be useful in debugging multi-threaded programs, as it allows developers to inspect the properties of all threads and to determine which threads are currently running or blocked. The returned list contains Thread objects for each active thread, which can be used to perform operations such as pausing or resuming the thread."
   ],
   "metadata": {
    "collapsed": false
   },
   "id": "2de7c1e4836d2496"
  },
  {
   "cell_type": "markdown",
   "source": [
    "3.Explain the following functions:\n",
    "- run()\n",
    "- start()\n",
    "- join()\n",
    "- isAlive()\n",
    "\n",
    "The threading module in Python provides several functions that allow developers to manage and control threads in Python programs. Here's an explanation of the following functions:\n",
    "\n",
    "run(): This method is called when a thread is started using the start() method. It contains the code that will be executed by the thread when it starts running. The run() method should be overridden by a subclass of the Thread class to define the behavior of the thread.\n",
    "\n",
    "start(): This method is used to start a thread. When the start() method is called, a new thread of execution is created, and the run() method of the thread is called in that new thread. It is important to note that the start() method does not block the main thread; it returns immediately, allowing the main thread to continue executing while the new thread runs concurrently.\n",
    "\n",
    "join(): This method is used to wait for a thread to complete execution. When the join() method is called on a thread, the calling thread blocks until the target thread completes execution. This can be useful in situations where one thread needs to wait for another thread to finish its work before proceeding.\n",
    "\n",
    "isAlive(): This method is used to determine whether a thread is currently executing. When called on a thread object, it returns True if the thread is currently running or False otherwise. This can be useful in situations where one thread needs to check whether another thread is still executing before performing some operation."
   ],
   "metadata": {
    "collapsed": false
   },
   "id": "dce56a553542908f"
  },
  {
   "cell_type": "markdown",
   "source": [
    "4.Write a python program that creates two threads. Thread 1 must print list of squares and Thread 2 must print list of cubes."
   ],
   "metadata": {
    "collapsed": false
   },
   "id": "2c658f34c26905f4"
  },
  {
   "cell_type": "code",
   "execution_count": 2,
   "outputs": [],
   "source": [
    "import threading"
   ],
   "metadata": {
    "collapsed": false,
    "ExecuteTime": {
     "end_time": "2023-11-03T04:17:30.955350900Z",
     "start_time": "2023-11-03T04:17:30.736585900Z"
    }
   },
   "id": "d34caa16f9fad985"
  },
  {
   "cell_type": "code",
   "execution_count": 7,
   "outputs": [],
   "source": [
    "def func(x):\n",
    "    print(x)"
   ],
   "metadata": {
    "collapsed": false,
    "ExecuteTime": {
     "end_time": "2023-11-03T04:20:44.547548600Z",
     "start_time": "2023-11-03T04:20:44.360011600Z"
    }
   },
   "id": "3efdb4ad62239098"
  },
  {
   "cell_type": "code",
   "execution_count": 12,
   "outputs": [],
   "source": [
    "thread1 = [threading.Thread(target=func, args=(pow(z,2),)) for z in range(11)]\n",
    "thread2 = [threading.Thread(target=func, args=(pow(z,3),)) for z in range(15)]"
   ],
   "metadata": {
    "collapsed": false,
    "ExecuteTime": {
     "end_time": "2023-11-03T04:25:03.719667400Z",
     "start_time": "2023-11-03T04:25:03.480110900Z"
    }
   },
   "id": "6c56a678880e8487"
  },
  {
   "cell_type": "code",
   "execution_count": 13,
   "outputs": [
    {
     "name": "stdout",
     "output_type": "stream",
     "text": [
      "0\n",
      "1\n",
      "4\n",
      "9\n",
      "16\n",
      "25\n",
      "36\n",
      "49\n",
      "64\n",
      "81\n",
      "100\n"
     ]
    }
   ],
   "source": [
    "for i in thread1:\n",
    "    i.start()"
   ],
   "metadata": {
    "collapsed": false,
    "ExecuteTime": {
     "end_time": "2023-11-03T04:25:04.108476Z",
     "start_time": "2023-11-03T04:25:04.080270600Z"
    }
   },
   "id": "376069506563fbde"
  },
  {
   "cell_type": "code",
   "execution_count": 14,
   "outputs": [
    {
     "name": "stdout",
     "output_type": "stream",
     "text": [
      "0\n",
      "1\n",
      "8\n",
      "27\n",
      "64\n",
      "125\n",
      "216\n",
      "343\n",
      "512\n",
      "729\n",
      "1000\n",
      "1331\n",
      "1728\n",
      "2197\n",
      "2744\n"
     ]
    }
   ],
   "source": [
    "for j in thread2:\n",
    "    j.start()"
   ],
   "metadata": {
    "collapsed": false,
    "ExecuteTime": {
     "end_time": "2023-11-03T04:25:30.176588900Z",
     "start_time": "2023-11-03T04:25:29.888171200Z"
    }
   },
   "id": "11ef1eaad7741554"
  },
  {
   "cell_type": "markdown",
   "source": [
    "5.State advantages and disadvantages of Multithreading.\n",
    "\n",
    "Advantages:\n",
    "\n",
    "Improved performance: Multithreading can improve the performance of a program by allowing it to take advantage of multiple CPUs or cores. By dividing a task into multiple threads, a program can execute multiple tasks simultaneously, reducing overall execution time.\n",
    "\n",
    "Resource sharing: Multithreading allows multiple threads to share the same resources, such as memory and I/O devices. This can reduce the amount of memory required by a program and allow it to more efficiently use system resources.\n",
    "\n",
    "Responsiveness: Multithreading can improve the responsiveness of a program by allowing it to continue executing while waiting for I/O operations or other time-consuming tasks.\n",
    "\n",
    "Simplified program design: Multithreading can simplify the design of a program by allowing it to be divided into smaller, more manageable parts. This can make it easier to write, test, and debug the program.\n",
    "\n",
    "Disadvantages:\n",
    "\n",
    "Increased complexity: Multithreaded programs are generally more complex than single-threaded programs, and can be more difficult to write, test, and debug.\n",
    "\n",
    "Synchronization issues: Multithreading requires careful synchronization of data and resources between threads to avoid issues such as race conditions, deadlocks, and other concurrency-related bugs.\n",
    "\n",
    "Overhead: Multithreading adds overhead to a program, both in terms of memory usage and processing time. The overhead of creating and managing threads can sometimes outweigh the benefits of multithreading.\n",
    "\n",
    "Debugging difficulties: Debugging multithreaded programs can be difficult due to the non-deterministic nature of thread execution. Bugs may only appear under certain thread scheduling conditions, making them difficult to reproduce and diagnose."
   ],
   "metadata": {
    "collapsed": false
   },
   "id": "5cd54ccf94e04b7"
  },
  {
   "cell_type": "markdown",
   "source": [
    "6.Explain deadlocks and race conditions.\n",
    "\n",
    "Deadlock and race condition are two common types of concurrency-related bugs that can occur in multithreaded programs.\n",
    "\n",
    "Deadlock: A deadlock occurs when two or more threads are blocked, waiting for each other to release resources they need to continue execution. This results in a situation where no thread can make progress and the program appears to hang. Deadlocks can occur when threads compete for exclusive access to resources, such as shared memory or a network socket.\n",
    "\n",
    "Race condition: A race condition occurs when the behavior of a program depends on the order or timing of thread execution. Specifically, it occurs when two or more threads access a shared resource in an unpredictable order, resulting in unexpected behavior. For example, if two threads both try to write to the same variable at the same time, the final value of the variable will depend on the order in which the writes occur.\n",
    "\n",
    "Both deadlocks and race conditions can be difficult to detect and diagnose, as they may only occur under certain conditions or with certain inputs. Debugging these types of bugs often requires careful analysis of thread scheduling and resource usage, as well as extensive testing and verification of the program's behavior. Proper use of synchronization primitives such as locks, semaphores, and barriers can help prevent these bugs from occurring in the first place."
   ],
   "metadata": {
    "collapsed": false
   },
   "id": "ec3b93ade79a7449"
  },
  {
   "cell_type": "code",
   "execution_count": null,
   "outputs": [],
   "source": [],
   "metadata": {
    "collapsed": false
   },
   "id": "dd5cf8984cd8b120"
  }
 ],
 "metadata": {
  "kernelspec": {
   "display_name": "Python 3",
   "language": "python",
   "name": "python3"
  },
  "language_info": {
   "codemirror_mode": {
    "name": "ipython",
    "version": 2
   },
   "file_extension": ".py",
   "mimetype": "text/x-python",
   "name": "python",
   "nbconvert_exporter": "python",
   "pygments_lexer": "ipython2",
   "version": "2.7.6"
  }
 },
 "nbformat": 4,
 "nbformat_minor": 5
}
