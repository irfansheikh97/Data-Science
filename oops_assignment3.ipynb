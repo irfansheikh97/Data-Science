{
 "cells": [
  {
   "cell_type": "markdown",
   "id": "3725fa6a",
   "metadata": {},
   "source": [
    "Q1, Create a vehicle class with an init method having instance variables as name_of_vehicle, max_speed\n",
    "and average_of_vehicle."
   ]
  },
  {
   "cell_type": "code",
   "execution_count": 42,
   "id": "8d04412c",
   "metadata": {},
   "outputs": [],
   "source": [
    "class vehicle:\n",
    "    \n",
    "    def __init__(self,name_of_vehicle,max_speed,average_of_vehicle):\n",
    "        \n",
    "        self.name_of_vehicle = name_of_vehicle\n",
    "        self.max_speed = max_speed\n",
    "        self.average_of_vehicle = average_of_vehicle\n",
    "        "
   ]
  },
  {
   "cell_type": "markdown",
   "id": "3143319a",
   "metadata": {},
   "source": [
    "Create a child class car from the vehicle class created in Que 1, which will inherit the vehicle class.\n",
    "Create a method named seating_capacity which takes capacity as an argument and returns the name of\n",
    "the vehicle and its seating capacity.\n"
   ]
  },
  {
   "cell_type": "code",
   "execution_count": 46,
   "id": "42d5b685",
   "metadata": {},
   "outputs": [],
   "source": [
    "class car(vehicle):\n",
    "    \n",
    "    def seating_capacity(self, capacity):\n",
    "        self.capacity = capacity\n",
    "        return f\"{self.name_of_vehicle} has a seating capacity of {capacity} passengers\""
   ]
  },
  {
   "cell_type": "code",
   "execution_count": 47,
   "id": "440c5a2c",
   "metadata": {},
   "outputs": [],
   "source": [
    "car = car(\"toyota\", 1200, 600)"
   ]
  },
  {
   "cell_type": "code",
   "execution_count": 48,
   "id": "24fcf417",
   "metadata": {},
   "outputs": [
    {
     "data": {
      "text/plain": [
       "'toyota has a seating capacity of 6 passengers'"
      ]
     },
     "execution_count": 48,
     "metadata": {},
     "output_type": "execute_result"
    }
   ],
   "source": [
    "car.seating_capacity(6)"
   ]
  },
  {
   "cell_type": "markdown",
   "id": "d90825d5",
   "metadata": {},
   "source": [
    "Q3. What is multiple inheritance? Write a python code to demonstrate multiple inheritance.\n",
    "\n",
    "Multiple inheritance is a feature in object-oriented programming languages, including Python, that allows a class to inherit attributes and methods from more than one parent class. In other words, a subclass can inherit from multiple base classes. This feature enables the subclass to have a combination of characteristics and behaviors from different parent classes."
   ]
  },
  {
   "cell_type": "code",
   "execution_count": 62,
   "id": "27f2adf9",
   "metadata": {},
   "outputs": [],
   "source": [
    "# Example\n",
    "class sun:\n",
    "    \n",
    "    def in_day(self):\n",
    "        return \"Rises in moring\"\n",
    "    \n",
    "class moon:\n",
    "    \n",
    "    def in_night(self):\n",
    "        return \"Shines at Night\"\n",
    "\n",
    "class earth(sun, moon):\n",
    "    \n",
    "    def day_and_night(self):\n",
    "        return \"Sun and moon shines at earth\"\n",
    "\n",
    "    "
   ]
  },
  {
   "cell_type": "code",
   "execution_count": 63,
   "id": "afbb05d0",
   "metadata": {},
   "outputs": [],
   "source": [
    "earth = earth()"
   ]
  },
  {
   "cell_type": "code",
   "execution_count": 61,
   "id": "8a93e9fb",
   "metadata": {},
   "outputs": [
    {
     "data": {
      "text/plain": [
       "'Rises in moring'"
      ]
     },
     "execution_count": 61,
     "metadata": {},
     "output_type": "execute_result"
    }
   ],
   "source": [
    "earth.in_day()"
   ]
  },
  {
   "cell_type": "markdown",
   "id": "9c3e6596",
   "metadata": {},
   "source": [
    "Q4. What are getter and setter in python? Create a class and create a getter and a setter method in this\n",
    "class.\n",
    "\n",
    "Getters : These are the methods used in Object-Oriented Programming (OOPS) which helps to access the private attributes from a class.\n",
    "Setters : These are the methods used in OOPS feature which helps to set the value to private attributes in a class."
   ]
  },
  {
   "cell_type": "code",
   "execution_count": 64,
   "id": "e9afbe24",
   "metadata": {},
   "outputs": [],
   "source": [
    "# Creating a class employee with getter and setter functions for employee_id variable\n",
    "class employee:\n",
    "\n",
    "    def __init__(self,name,employee_id):\n",
    "        self.__name = name\n",
    "        self.__employee_id = employee_id\n",
    "    \n",
    "    def get_employee_id(self):\n",
    "        return self.__employee_id\n",
    "    \n",
    "    def set_employee_id(self,new_id):\n",
    "        self.__employee_id = new_id"
   ]
  },
  {
   "cell_type": "code",
   "execution_count": 68,
   "id": "28ab195c",
   "metadata": {},
   "outputs": [
    {
     "data": {
      "text/plain": [
       "123"
      ]
     },
     "execution_count": 68,
     "metadata": {},
     "output_type": "execute_result"
    }
   ],
   "source": [
    "emp1 = employee('ashar',123)\n",
    "emp1.get_employee_id()"
   ]
  },
  {
   "cell_type": "code",
   "execution_count": 69,
   "id": "43c547e5",
   "metadata": {},
   "outputs": [],
   "source": [
    "emp1.set_employee_id(12)"
   ]
  },
  {
   "cell_type": "code",
   "execution_count": 70,
   "id": "75c1a774",
   "metadata": {},
   "outputs": [
    {
     "data": {
      "text/plain": [
       "12"
      ]
     },
     "execution_count": 70,
     "metadata": {},
     "output_type": "execute_result"
    }
   ],
   "source": [
    "emp1.get_employee_id()"
   ]
  },
  {
   "cell_type": "markdown",
   "id": "0525decf",
   "metadata": {},
   "source": [
    "Q5.What is method overriding in python? Write a python code to demonstrate method overriding.\n",
    "\n",
    "Method overriding is a feature of object-oriented programming languages where the subclass or child class can provide the program with specific characteristics or a specific implementation process of data provided that are already defined in the parent class or superclass."
   ]
  },
  {
   "cell_type": "code",
   "execution_count": 71,
   "id": "74ac2543",
   "metadata": {},
   "outputs": [
    {
     "name": "stdout",
     "output_type": "stream",
     "text": [
      "Dog barks.\n",
      "Cat meows.\n"
     ]
    }
   ],
   "source": [
    "class Animal:\n",
    "    def speak(self):\n",
    "        return \"Animal speaks.\"\n",
    "\n",
    "class Dog(Animal):\n",
    "    def speak(self):\n",
    "        return \"Dog barks.\"\n",
    "\n",
    "class Cat(Animal):\n",
    "    def speak(self):\n",
    "        return \"Cat meows.\"\n",
    "\n",
    "# Create instances of the subclasses\n",
    "dog = Dog()\n",
    "cat = Cat()\n",
    "\n",
    "# Call the speak method on instances\n",
    "print(dog.speak())\n",
    "print(cat.speak())\n"
   ]
  },
  {
   "cell_type": "code",
   "execution_count": null,
   "id": "b8440f8e",
   "metadata": {},
   "outputs": [],
   "source": []
  }
 ],
 "metadata": {
  "kernelspec": {
   "display_name": "Python 3 (ipykernel)",
   "language": "python",
   "name": "python3"
  },
  "language_info": {
   "codemirror_mode": {
    "name": "ipython",
    "version": 3
   },
   "file_extension": ".py",
   "mimetype": "text/x-python",
   "name": "python",
   "nbconvert_exporter": "python",
   "pygments_lexer": "ipython3",
   "version": "3.9.7"
  }
 },
 "nbformat": 4,
 "nbformat_minor": 5
}
