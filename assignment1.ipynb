{
 "cells": [
  {
   "cell_type": "code",
   "execution_count": 1,
   "id": "0a1a108c",
   "metadata": {},
   "outputs": [
    {
     "name": "stdout",
     "output_type": "stream",
     "text": [
      "11\n",
      "22\n",
      "33\n",
      "44\n",
      "55\n",
      "66\n",
      "77\n",
      "88\n",
      "99\n"
     ]
    }
   ],
   "source": [
    "# Q1\n",
    "## For loop\n",
    "##The 'for' loop used only when we already knew the number of iterations. For example\n",
    "\n",
    "lst = [11,22,33,44,55,66,77,88,99]\n",
    "\n",
    "for i in lst:\n",
    "    print(i)    \n"
   ]
  },
  {
   "cell_type": "code",
   "execution_count": 2,
   "id": "5a8cc550",
   "metadata": {},
   "outputs": [
    {
     "name": "stdout",
     "output_type": "stream",
     "text": [
      "Enter a number12\n"
     ]
    },
    {
     "data": {
      "text/plain": [
       "132"
      ]
     },
     "execution_count": 2,
     "metadata": {},
     "output_type": "execute_result"
    }
   ],
   "source": [
    "#While loop\n",
    "## The 'while' loop used only when the number of iteration are not exactly known.\n",
    "i = int(input(\"Enter a number\"))\n",
    "count = 1\n",
    "result = 0\n",
    "while count < i:\n",
    "    result = result + i\n",
    "    count += 1\n",
    "    \n",
    "result"
   ]
  },
  {
   "cell_type": "code",
   "execution_count": 3,
   "id": "14a19ac6",
   "metadata": {
    "scrolled": true
   },
   "outputs": [
    {
     "data": {
      "text/plain": [
       "3628800"
      ]
     },
     "execution_count": 3,
     "metadata": {},
     "output_type": "execute_result"
    }
   ],
   "source": [
    "#Q2\n",
    "#sum using For Loop\n",
    "result = 0\n",
    "for i in range(1,11):\n",
    "    result += i\n",
    "result\n",
    "\n",
    "#product using For Loop\n",
    "count = 1\n",
    "for i in range(1,11):\n",
    "    count*= i\n",
    "count    \n"
   ]
  },
  {
   "cell_type": "code",
   "execution_count": 4,
   "id": "bb88f6d2",
   "metadata": {},
   "outputs": [
    {
     "data": {
      "text/plain": [
       "3628800"
      ]
     },
     "execution_count": 4,
     "metadata": {},
     "output_type": "execute_result"
    }
   ],
   "source": [
    "# sum using while loop\n",
    "\n",
    "result = 0\n",
    "count = 1\n",
    "while count <= 10:\n",
    "    result += count\n",
    "    count+= 1\n",
    "result\n",
    "\n",
    "# product using while loop\n",
    "count=1\n",
    "result = 1\n",
    "while count <= 10:\n",
    "    result = count * result\n",
    "    count+=1\n",
    "result"
   ]
  },
  {
   "cell_type": "code",
   "execution_count": 20,
   "id": "8efb1a6c",
   "metadata": {},
   "outputs": [
    {
     "name": "stdout",
     "output_type": "stream",
     "text": [
      "Enter units consumed in a month: 310\n"
     ]
    },
    {
     "data": {
      "text/plain": [
       "2250"
      ]
     },
     "execution_count": 20,
     "metadata": {},
     "output_type": "execute_result"
    }
   ],
   "source": [
    "#Q3\n",
    "\n",
    "units = int(input(\"Enter units consumed in a month: \"))\n",
    "bill = 0\n",
    "if units <= 100:\n",
    "    bill = 100 * 4.5\n",
    "elif units <= 200:\n",
    "    bill = 100 * 4.5 + ((units - 100) * 6)\n",
    "elif units<=300:\n",
    "    bill = (100 * 4.5) + (100 * 6) + ((units -200) * 10)\n",
    "elif units > 300:\n",
    "    bill = (100 * 4.5) + (100 * 6) + (100 * 10) + ((units -300) * 20)\n",
    "    \n",
    "int(bill)\n",
    "        "
   ]
  },
  {
   "cell_type": "code",
   "execution_count": 4,
   "id": "7316d87e",
   "metadata": {},
   "outputs": [
    {
     "data": {
      "text/plain": [
       "[2,\n",
       " 4,\n",
       " 5,\n",
       " 6,\n",
       " 8,\n",
       " 10,\n",
       " 12,\n",
       " 14,\n",
       " 15,\n",
       " 16,\n",
       " 18,\n",
       " 20,\n",
       " 22,\n",
       " 24,\n",
       " 25,\n",
       " 26,\n",
       " 28,\n",
       " 30,\n",
       " 32,\n",
       " 34,\n",
       " 35,\n",
       " 36,\n",
       " 38,\n",
       " 40,\n",
       " 42,\n",
       " 44,\n",
       " 45,\n",
       " 46,\n",
       " 48,\n",
       " 50,\n",
       " 52,\n",
       " 54,\n",
       " 55,\n",
       " 56,\n",
       " 58,\n",
       " 60,\n",
       " 62,\n",
       " 64,\n",
       " 65,\n",
       " 66,\n",
       " 68,\n",
       " 70,\n",
       " 72,\n",
       " 74,\n",
       " 75,\n",
       " 76,\n",
       " 78,\n",
       " 80,\n",
       " 82,\n",
       " 84,\n",
       " 85,\n",
       " 86,\n",
       " 88,\n",
       " 90,\n",
       " 92,\n",
       " 94,\n",
       " 95,\n",
       " 96,\n",
       " 98,\n",
       " 100]"
      ]
     },
     "execution_count": 4,
     "metadata": {},
     "output_type": "execute_result"
    }
   ],
   "source": [
    "#Q4\n",
    "#using for loop\n",
    "\n",
    "lst = []\n",
    "for i in range(1,101):\n",
    "    if i**3 % 4==0 or i**3 % 5 == 0:\n",
    "        lst.append(i)\n",
    "lst"
   ]
  },
  {
   "cell_type": "code",
   "execution_count": 5,
   "id": "24aed21a",
   "metadata": {},
   "outputs": [
    {
     "data": {
      "text/plain": [
       "[2,\n",
       " 4,\n",
       " 5,\n",
       " 6,\n",
       " 8,\n",
       " 10,\n",
       " 12,\n",
       " 14,\n",
       " 15,\n",
       " 16,\n",
       " 18,\n",
       " 20,\n",
       " 22,\n",
       " 24,\n",
       " 25,\n",
       " 26,\n",
       " 28,\n",
       " 30,\n",
       " 32,\n",
       " 34,\n",
       " 35,\n",
       " 36,\n",
       " 38,\n",
       " 40,\n",
       " 42,\n",
       " 44,\n",
       " 45,\n",
       " 46,\n",
       " 48,\n",
       " 50,\n",
       " 52,\n",
       " 54,\n",
       " 55,\n",
       " 56,\n",
       " 58,\n",
       " 60,\n",
       " 62,\n",
       " 64,\n",
       " 65,\n",
       " 66,\n",
       " 68,\n",
       " 70,\n",
       " 72,\n",
       " 74,\n",
       " 75,\n",
       " 76,\n",
       " 78,\n",
       " 80,\n",
       " 82,\n",
       " 84,\n",
       " 85,\n",
       " 86,\n",
       " 88,\n",
       " 90,\n",
       " 92,\n",
       " 94,\n",
       " 95,\n",
       " 96,\n",
       " 98,\n",
       " 100]"
      ]
     },
     "execution_count": 5,
     "metadata": {},
     "output_type": "execute_result"
    }
   ],
   "source": [
    "# using while loop\n",
    "\n",
    "lst = []\n",
    "count = 1\n",
    "\n",
    "while count < 101:\n",
    "    if count**3% 4==0 or count**3%5 == 0:\n",
    "        lst.append(count)\n",
    "    count+=1    \n",
    "lst"
   ]
  },
  {
   "cell_type": "code",
   "execution_count": 12,
   "id": "989edd0a",
   "metadata": {},
   "outputs": [
    {
     "name": "stdout",
     "output_type": "stream",
     "text": [
      "Vowels in the given string is 12\n"
     ]
    }
   ],
   "source": [
    "#Q5\n",
    "\n",
    "string = \"I want to become a data scientist\"\n",
    "vowels = ['a','e','i','o','u']\n",
    "lst = []\n",
    "for i in string.lower():\n",
    "    if i in vowels:\n",
    "        lst.append(i)\n",
    "print(\"Vowels in the given string is\",len(lst))\n",
    "        \n",
    "        "
   ]
  },
  {
   "cell_type": "code",
   "execution_count": null,
   "id": "c6988dcb",
   "metadata": {},
   "outputs": [],
   "source": []
  }
 ],
 "metadata": {
  "kernelspec": {
   "display_name": "Python 3 (ipykernel)",
   "language": "python",
   "name": "python3"
  },
  "language_info": {
   "codemirror_mode": {
    "name": "ipython",
    "version": 3
   },
   "file_extension": ".py",
   "mimetype": "text/x-python",
   "name": "python",
   "nbconvert_exporter": "python",
   "pygments_lexer": "ipython3",
   "version": "3.9.7"
  }
 },
 "nbformat": 4,
 "nbformat_minor": 5
}
