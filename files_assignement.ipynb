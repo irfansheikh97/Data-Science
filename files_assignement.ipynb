{
 "cells": [
  {
   "cell_type": "markdown",
   "source": [
    "Which function is used to open a file? What are the different modes of opening a file? Explain each mode\n",
    "of file opening.\n",
    "--In Python, the open() function is used to open a file. It is a built-in function that allows you to interact with files on your file system.\n",
    "\n",
    "Here are the most commonly used file opening modes:\n",
    "\n",
    "\"r\" (Read): This mode allows you to open a file for reading. The file must already exist. If the file does not exist, it will raise a \"FileNotFoundError.\" You can read the contents of the file but cannot modify it.\n",
    "\n",
    "\"w\" (Write): This mode allows you to open a file for writing. If the file exists, it will be truncated (emptied) when you open it. If the file does not exist, a new file will be created. You can write data to the file, and if the file already contains data, it will be overwritten.\n",
    "\n",
    "\"a\" (Append): This mode allows you to open a file for writing, but it will not truncate the file if it already exists. Instead, new data is appended to the end of the file. If the file does not exist, a new file will be created.\n",
    "\n",
    "\"x\" (Exclusive Creation): This mode is used to open a file for exclusive creation. It will create a new file but raise a \"FileExistsError\" if the file already exists.\n",
    "\n",
    "\"b\" (Binary Mode): This mode can be added to any of the above modes to open the file in binary mode. It's used for reading or writing binary data, such as images or other non-text files. For example, use \"rb\" for reading a binary file and \"wb\" for writing to a binary file.\n",
    "\n",
    "\"t\" (Text Mode): This mode can be added to any of the above modes to open the file in text mode, which is the default mode. Text mode is used for reading or writing text files. For example, use \"rt\" for reading a text file and \"wt\" for writing to a text file."
   ],
   "metadata": {
    "collapsed": false
   },
   "id": "d51610784ab89940"
  },
  {
   "cell_type": "markdown",
   "source": [
    "Why close() function is used? Why is it important to close a file?\n",
    "\n",
    "--The close() function is used to close a file in Python. It's essential to close a file when you're done with it for several important reasons:\n",
    "\n",
    "Resource Management: When a file is open, it consumes system resources, including file handles and memory. Failing to close a file properly can lead to resource leaks, which can cause your program to run out of available resources, such as file handles.\n",
    "\n",
    "Data Integrity: Closing a file ensures that any data you've written to the file is properly flushed to the storage medium, so it's not left in a buffered state. If you don't close a file after writing, there's a risk that some data may be lost if your program terminates unexpectedly.\n",
    "\n",
    "Preventing File Corruption: Closing a file is particularly important when writing to a file. Failing to close a file correctly may result in an incomplete or corrupted file if it's not properly flushed and closed.\n",
    "\n",
    "File Locking: On some systems, a file that's open for writing may be locked, preventing other programs from accessing it. Closing the file releases the lock, allowing other processes to access or modify the file.\n",
    "\n",
    "Portability: Properly closing files ensures that your code remains portable across different operating systems and Python versions. While some systems may automatically close files when a program exits, relying on this behavior can lead to unpredictable results."
   ],
   "metadata": {
    "collapsed": false
   },
   "id": "cf2d9e2a92775675"
  },
  {
   "cell_type": "markdown",
   "source": [
    "Write a python program to create a text file. Write ‘I want to become a Data Scientist’ in that file. Then\n",
    "close the file. Open this file and read the content of the file."
   ],
   "metadata": {
    "collapsed": false
   },
   "id": "743cf6043094942b"
  },
  {
   "cell_type": "code",
   "execution_count": 3,
   "outputs": [],
   "source": [
    "file = open(\"text.txt\", \"w\")\n",
    "file.write(\"I want to become a Data Scientist\")\n",
    "file.close()"
   ],
   "metadata": {
    "collapsed": false,
    "ExecuteTime": {
     "end_time": "2023-10-31T11:40:33.342304900Z",
     "start_time": "2023-10-31T11:40:33.320609200Z"
    }
   },
   "id": "db8810d6c93d710b"
  },
  {
   "cell_type": "code",
   "execution_count": 4,
   "outputs": [
    {
     "name": "stdout",
     "output_type": "stream",
     "text": [
      "I want to become a Data Scientist\n"
     ]
    }
   ],
   "source": [
    "file = open(\"text.txt\")\n",
    "read = file.read()\n",
    "print(read)"
   ],
   "metadata": {
    "collapsed": false,
    "ExecuteTime": {
     "end_time": "2023-10-31T11:40:58.546365400Z",
     "start_time": "2023-10-31T11:40:58.316619500Z"
    }
   },
   "id": "8b0cabf840f8689a"
  },
  {
   "cell_type": "markdown",
   "source": [
    "Explain the following with python code: read(), readline() and readlines()."
   ],
   "metadata": {
    "collapsed": false
   },
   "id": "4020c9a27636d064"
  },
  {
   "cell_type": "code",
   "execution_count": 10,
   "outputs": [
    {
     "name": "stdout",
     "output_type": "stream",
     "text": [
      "I want to become a Data Scientist\n",
      "I want to become a Data Scientist\n",
      "I want to become a Data Scientist\n",
      "I want to become a Data Scientist\n"
     ]
    }
   ],
   "source": [
    "with open(\"text.txt\") as f:\n",
    "    read = f.read()\n",
    "    print(read)"
   ],
   "metadata": {
    "collapsed": false,
    "ExecuteTime": {
     "end_time": "2023-10-31T11:48:42.765459400Z",
     "start_time": "2023-10-31T11:48:42.749459800Z"
    }
   },
   "id": "ce8d6c2cb4f60a75"
  },
  {
   "cell_type": "code",
   "execution_count": 13,
   "outputs": [
    {
     "name": "stdout",
     "output_type": "stream",
     "text": [
      "I want to become a Data Scientist\n"
     ]
    }
   ],
   "source": [
    "with open(\"text.txt\") as f:\n",
    "    read = f.readline()\n",
    "    print(read)"
   ],
   "metadata": {
    "collapsed": false,
    "ExecuteTime": {
     "end_time": "2023-10-31T11:49:41.856135300Z",
     "start_time": "2023-10-31T11:49:41.754678900Z"
    }
   },
   "id": "4aafe2596087a905"
  },
  {
   "cell_type": "code",
   "execution_count": 16,
   "outputs": [
    {
     "name": "stdout",
     "output_type": "stream",
     "text": [
      "I want to become a Data Scientist\n",
      "\n",
      "I want to become a Data Scientist\n",
      "\n",
      "I want to become a Data Scientist\n",
      "\n",
      "I want to become a Data Scientist\n"
     ]
    }
   ],
   "source": [
    "with open(\"text.txt\") as f:\n",
    "    read = f.readlines()\n",
    "    for lines in read:\n",
    "        print(lines)"
   ],
   "metadata": {
    "collapsed": false,
    "ExecuteTime": {
     "end_time": "2023-10-31T11:50:59.435023600Z",
     "start_time": "2023-10-31T11:50:59.345364800Z"
    }
   },
   "id": "3a9f92f500f37d7a"
  },
  {
   "cell_type": "markdown",
   "source": [
    "Explain why with statement is used with open(). What is the advantage of using with statement and\n",
    "open() together?\n",
    "\n",
    "--The with statement is used with the open() function when working with files in Python to simplify file I/O operations and ensure proper resource management. The primary advantage of using the with statement with open() is that it provides automatic resource cleanup and exception handling. Here's why it's beneficial:\n",
    "\n",
    "Automatic Resource Cleanup: When you use the with statement, it takes care of opening and closing the file for you. It automatically closes the file when the code block is exited, whether through normal execution or due to an exception. This ensures that the file is properly closed and resources are released, preventing resource leaks.\n",
    "\n",
    "Without the with statement, you would need to explicitly call file.close() to ensure proper resource cleanup. Failing to do so could result in resource leaks, especially in cases where exceptions are raised within your code.\n",
    "\n",
    "Clean and Readable Code: The with statement makes the code more readable and cleaner because it clearly defines the scope in which the file is being used. It separates the code that operates on the file from the code that ensures proper cleanup. This separation improves code maintainability and reduces the likelihood of introducing bugs related to resource management.\n",
    "\n",
    "Exception Handling: The with statement provides built-in exception handling. If an exception is raised within the code block, the with statement ensures that the file is closed properly before the exception is propagated. This helps prevent file corruption or data loss."
   ],
   "metadata": {
    "collapsed": false
   },
   "id": "da9dc46b691de578"
  },
  {
   "cell_type": "markdown",
   "source": [
    "Explain the write() and writelines() functions. Give a suitable example."
   ],
   "metadata": {
    "collapsed": false
   },
   "id": "5e58d6e0e881865f"
  },
  {
   "cell_type": "markdown",
   "source": [
    "In Python, the write() and writelines() methods are used for writing data to a file. Here's an explanation of each method along with examples:\n",
    "\n",
    "-write(): The write() method is used to write a string to a file. It appends the string to the end of the file, overwriting any existing content. If the file does not exist, it will be created. The method returns the number of characters written to the file.\n",
    "\n",
    "with open(\"example.txt\", \"w\") as file:\n",
    "    content = \"This is some text that we want to write to the file.\"\n",
    "    file.write(content)\n",
    "    \n",
    "-writelines(): The writelines() method is used to write a sequence (list) of strings to a file. It appends each string from the sequence as a new line in the file. It's commonly used to write multiple lines of text at once.\n",
    "\n",
    "with open(\"example.txt\", \"w\") as file:\n",
    "    lines = [\"Line 1\", \"Line 2\", \"Line 3\"]\n",
    "    file.writelines(lines)"
   ],
   "metadata": {
    "collapsed": false
   },
   "id": "9ce37fcc736db201"
  },
  {
   "cell_type": "code",
   "execution_count": null,
   "outputs": [],
   "source": [],
   "metadata": {
    "collapsed": false
   },
   "id": "e47806353a1fd3af"
  }
 ],
 "metadata": {
  "kernelspec": {
   "display_name": "Python 3",
   "language": "python",
   "name": "python3"
  },
  "language_info": {
   "codemirror_mode": {
    "name": "ipython",
    "version": 2
   },
   "file_extension": ".py",
   "mimetype": "text/x-python",
   "name": "python",
   "nbconvert_exporter": "python",
   "pygments_lexer": "ipython2",
   "version": "2.7.6"
  }
 },
 "nbformat": 4,
 "nbformat_minor": 5
}
