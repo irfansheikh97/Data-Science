{
 "cells": [
  {
   "cell_type": "markdown",
   "source": [
    "1.What is an Exception in python? Write the difference between Exceptions and syntax errors\n",
    "--**Exception in Python:**\n",
    "\n",
    "An exception in Python is an event that can disrupt the normal flow of a program. It is a signal that something unexpected or erroneous has happened during the execution of a program. When an exception occurs, Python generates an exception object that contains information about the error, such as the type of exception and a description of the problem. Exception handling allows you to gracefully respond to and recover from these unexpected events, preventing your program from crashing or producing incorrect results.\n",
    "\n",
    "Common types of exceptions in Python include `ZeroDivisionError`, `TypeError`, `ValueError`, `FileNotFoundError`, and many others. You can also create custom exceptions to handle specific error conditions in your code.\n",
    "\n",
    "**Difference between Exceptions and Syntax Errors:**\n",
    "\n",
    "1. **Nature of Error:**\n",
    "   - **Exception:** Exceptions are runtime errors that occur during the execution of a Python program. They are typically caused by invalid or unexpected input data or unexpected conditions during program execution.\n",
    "   - **Syntax Error:** Syntax errors, also known as parsing errors, occur during the parsing of the code before it is executed. They are caused by violations of the Python language's syntax rules, such as missing colons, parentheses, or incorrect indentation.\n",
    "\n",
    "2. **Detection:**\n",
    "   - **Exception:** Exceptions are detected during the execution of the program. They may occur in response to specific conditions or input data.\n",
    "   - **Syntax Error:** Syntax errors are detected by the Python interpreter while parsing the code before any execution occurs. These errors prevent the program from running.\n",
    "\n",
    "3. **Handling:**\n",
    "   - **Exception:** Exceptions can be handled using try-except blocks, allowing you to specify how the program should respond to the error. You can catch exceptions, log the error, and continue program execution.\n",
    "   - **Syntax Error:** Syntax errors cannot be handled using try-except blocks because they prevent the program from running. You must fix these errors in the code to make it syntactically correct.\n",
    "\n",
    "4. **Examples:**\n",
    "   - **Exception:** Examples of exceptions include `ZeroDivisionError` (division by zero), `TypeError` (e.g., trying to concatenate a string and an integer), and `FileNotFoundError` (trying to open a non-existent file).\n",
    "   - **Syntax Error:** Examples of syntax errors include missing colons in loops or function definitions, mismatched parentheses, or incorrect indentation.\n",
    "\n",
    "In summary, exceptions are runtime errors that occur during program execution and can be handled, while syntax errors are detected during code parsing, preventing the program from running until they are fixed. Handling exceptions allows for graceful error recovery and the continuation of program execution in the presence of unexpected errors."
   ],
   "metadata": {
    "collapsed": false
   },
   "id": "546c692c44057934"
  },
  {
   "cell_type": "markdown",
   "source": [
    "Q2. What happens when an exception is not handled? Explain with an example\n",
    "\n",
    "When an exception is not handled, the program terminates abruptly and generates a traceback, which is a detailed report of the error that occurred. The traceback provides information about the line of code where the error occurred, the type of error, and a description of the error."
   ],
   "metadata": {
    "collapsed": false
   },
   "id": "4116d98d4a5d521a"
  },
  {
   "cell_type": "code",
   "execution_count": 1,
   "outputs": [
    {
     "name": "stdout",
     "output_type": "stream",
     "text": [
      "2.0\n"
     ]
    },
    {
     "ename": "ZeroDivisionError",
     "evalue": "division by zero",
     "output_type": "error",
     "traceback": [
      "\u001B[1;31m---------------------------------------------------------------------------\u001B[0m",
      "\u001B[1;31mZeroDivisionError\u001B[0m                         Traceback (most recent call last)",
      "Cell \u001B[1;32mIn[1], line 6\u001B[0m\n\u001B[0;32m      3\u001B[0m     \u001B[38;5;28;01mreturn\u001B[39;00m result\n\u001B[0;32m      5\u001B[0m \u001B[38;5;28mprint\u001B[39m(divide(\u001B[38;5;241m10\u001B[39m, \u001B[38;5;241m5\u001B[39m))\n\u001B[1;32m----> 6\u001B[0m \u001B[38;5;28mprint\u001B[39m(\u001B[43mdivide\u001B[49m\u001B[43m(\u001B[49m\u001B[38;5;241;43m10\u001B[39;49m\u001B[43m,\u001B[49m\u001B[43m \u001B[49m\u001B[38;5;241;43m0\u001B[39;49m\u001B[43m)\u001B[49m)\n",
      "Cell \u001B[1;32mIn[1], line 2\u001B[0m, in \u001B[0;36mdivide\u001B[1;34m(x, y)\u001B[0m\n\u001B[0;32m      1\u001B[0m \u001B[38;5;28;01mdef\u001B[39;00m \u001B[38;5;21mdivide\u001B[39m(x, y):\n\u001B[1;32m----> 2\u001B[0m     result \u001B[38;5;241m=\u001B[39m \u001B[43mx\u001B[49m\u001B[43m \u001B[49m\u001B[38;5;241;43m/\u001B[39;49m\u001B[43m \u001B[49m\u001B[43my\u001B[49m\n\u001B[0;32m      3\u001B[0m     \u001B[38;5;28;01mreturn\u001B[39;00m result\n",
      "\u001B[1;31mZeroDivisionError\u001B[0m: division by zero"
     ]
    }
   ],
   "source": [
    "def divide(x, y):\n",
    "    result = x / y\n",
    "    return result\n",
    "\n",
    "print(divide(10, 5))\n",
    "print(divide(10, 0))"
   ],
   "metadata": {
    "collapsed": false,
    "ExecuteTime": {
     "end_time": "2023-11-01T11:09:35.725066700Z",
     "start_time": "2023-11-01T11:09:32.864553Z"
    }
   },
   "id": "65128c7829ee3531"
  },
  {
   "cell_type": "markdown",
   "source": [
    "Q3. Which Python statements are used to catch and handle exceptions? Explain with an example\n",
    "\n",
    "In Python, exceptions can be caught and handled using the try and except statements. The try block contains the code that might raise an exception, and the except block contains the code that will handle the exception if it occurs."
   ],
   "metadata": {
    "collapsed": false
   },
   "id": "d1b6e2a4bae4c3be"
  },
  {
   "cell_type": "code",
   "execution_count": 9,
   "outputs": [],
   "source": [
    "def zero_division_error(a,b):\n",
    "    try:\n",
    "        result = a/b\n",
    "    except ZeroDivisionError as z:\n",
    "        print(z)\n",
    "    else:\n",
    "        return result"
   ],
   "metadata": {
    "collapsed": false,
    "ExecuteTime": {
     "end_time": "2023-11-01T11:14:09.771288100Z",
     "start_time": "2023-11-01T11:14:09.751780700Z"
    }
   },
   "id": "971420f98b0744a0"
  },
  {
   "cell_type": "code",
   "execution_count": 10,
   "outputs": [
    {
     "name": "stdout",
     "output_type": "stream",
     "text": [
      "division by zero\n",
      "None\n",
      "2.0\n"
     ]
    }
   ],
   "source": [
    "print(zero_division_error(10,0))\n",
    "print(zero_division_error(10,5))"
   ],
   "metadata": {
    "collapsed": false,
    "ExecuteTime": {
     "end_time": "2023-11-01T11:14:10.274486600Z",
     "start_time": "2023-11-01T11:14:10.251469600Z"
    }
   },
   "id": "19044cacaf2e1c09"
  },
  {
   "cell_type": "markdown",
   "source": [
    "Q4. Explain with an example:#\n",
    "\n",
    "try and else\n",
    "finally\n",
    "raise"
   ],
   "metadata": {
    "collapsed": false
   },
   "id": "cf424116e7c2e9cd"
  },
  {
   "cell_type": "code",
   "execution_count": 11,
   "outputs": [
    {
     "name": "stdout",
     "output_type": "stream",
     "text": [
      "2.0\n",
      "5.0\n"
     ]
    }
   ],
   "source": [
    "# try and else statements can be used in combination to handle exceptions in Python. The else block is executed if no exceptions are raised in the try block.\n",
    "#example\n",
    "\n",
    "def divide(x, y):\n",
    "    try:\n",
    "        result = x / y\n",
    "    except ZeroDivisionError:\n",
    "        print(\"Cannot divide by zero\")\n",
    "    else:\n",
    "        return result\n",
    "\n",
    "print(divide(10, 5)) # Output: 2.0\n",
    "print(divide(10, 2)) # Output: 5.0\n"
   ],
   "metadata": {
    "collapsed": false,
    "ExecuteTime": {
     "end_time": "2023-11-01T11:27:55.120007500Z",
     "start_time": "2023-11-01T11:27:55.063048400Z"
    }
   },
   "id": "8160535da8c5fff3"
  },
  {
   "cell_type": "code",
   "execution_count": 12,
   "outputs": [
    {
     "name": "stdout",
     "output_type": "stream",
     "text": [
      "Executing finally block\n",
      "2.0\n",
      "Cannot divide by zero\n",
      "Executing finally block\n",
      "None\n"
     ]
    }
   ],
   "source": [
    "#The finally statement in Python is used to specify a block of code that should be executed regardless of whether an exception occurs or not. The code in the finally block is guaranteed to be executed, even if an exception is raised and not caught in the try block.\n",
    "#example\n",
    "def divide(x, y):\n",
    "    try:\n",
    "        result = x / y\n",
    "    except ZeroDivisionError:\n",
    "        print(\"Cannot divide by zero\")\n",
    "        result = None\n",
    "    finally:\n",
    "        print(\"Executing finally block\")\n",
    "    return result\n",
    "\n",
    "print(divide(10, 5)) # Output: Executing finally block \\n 2.0\n",
    "print(divide(10, 0)) # Output: Cannot divide by zero \\n Executing finally block \\n None"
   ],
   "metadata": {
    "collapsed": false,
    "ExecuteTime": {
     "end_time": "2023-11-01T11:27:58.107843800Z",
     "start_time": "2023-11-01T11:27:57.850187400Z"
    }
   },
   "id": "4f0d00427ebe7007"
  },
  {
   "cell_type": "code",
   "execution_count": 13,
   "outputs": [
    {
     "name": "stdout",
     "output_type": "stream",
     "text": [
      "2.0\n",
      "Cannot divide by zero\n"
     ]
    }
   ],
   "source": [
    "#The raise statement in Python is used to raise an exception explicitly. It is used to indicate that an error has occurred and to stop the normal execution of the program.\n",
    "#example\n",
    "\n",
    "def divide(x, y):\n",
    "    if y == 0:\n",
    "        raise ZeroDivisionError(\"Cannot divide by zero\")\n",
    "    return x / y\n",
    "\n",
    "try:\n",
    "    print(divide(10, 5)) # Output: 2.0\n",
    "    print(divide(10, 0))\n",
    "except ZeroDivisionError as e:\n",
    "    print(e) # Output: Cannot divide by zero"
   ],
   "metadata": {
    "collapsed": false,
    "ExecuteTime": {
     "end_time": "2023-11-01T11:28:26.719082800Z",
     "start_time": "2023-11-01T11:28:26.571189800Z"
    }
   },
   "id": "b2a66d9be6daf7e9"
  },
  {
   "cell_type": "markdown",
   "source": [
    "Q5. What are Custom Exceptions in python? What do we need Custom Exceptions ? Explain in with an example\n",
    "\n",
    "Custom exceptions are user-defined exceptions in Python. They allow you to define specific types of exceptions for your application, so you can handle errors and exceptions in a more organized and meaningful way.\n",
    "\n",
    "For example, consider a scenario where you are writing a library that performs some mathematical calculations. In this library, you may encounter several different types of errors, such as invalid input, overflow, and divide-by-zero errors. You could handle these errors by raising built-in exceptions, such as ValueError or ZeroDivisionError, but it may not provide enough context or information about the error that has occurred."
   ],
   "metadata": {
    "collapsed": false
   },
   "id": "706dcb84b0a24bf4"
  },
  {
   "cell_type": "code",
   "execution_count": 14,
   "outputs": [
    {
     "name": "stdout",
     "output_type": "stream",
     "text": [
      "2.0\n",
      "Input values must be positive\n",
      "None\n",
      "Cannot divide by zero\n",
      "None\n"
     ]
    }
   ],
   "source": [
    "class InvalidInputError(Exception):\n",
    "    pass\n",
    "\n",
    "class OverflowError(Exception):\n",
    "    pass\n",
    "\n",
    "class DivideByZeroError(Exception):\n",
    "    pass\n",
    "\n",
    "def divide(x, y):\n",
    "    if y == 0:\n",
    "        raise DivideByZeroError(\"Cannot divide by zero\")\n",
    "    return x / y\n",
    "\n",
    "def calculate(x, y):\n",
    "    try:\n",
    "        if x < 0 or y < 0:\n",
    "            raise InvalidInputError(\"Input values must be positive\")\n",
    "        result = divide(x, y)\n",
    "    except DivideByZeroError as e:\n",
    "        print(e)\n",
    "    except InvalidInputError as e:\n",
    "        print(e)\n",
    "    else:\n",
    "        return result\n",
    "\n",
    "print(calculate(10, 5)) # Output: 2.0\n",
    "print(calculate(-10, 5)) # Output: Input values must be positive\n",
    "print(calculate(10, 0)) # Output: Cannot divide by zero"
   ],
   "metadata": {
    "collapsed": false,
    "ExecuteTime": {
     "end_time": "2023-11-01T11:29:08.925532600Z",
     "start_time": "2023-11-01T11:29:08.726607400Z"
    }
   },
   "id": "8cfda6634a687f81"
  },
  {
   "cell_type": "markdown",
   "source": [
    "Q6. Create a custom exception class. Use this class to handle an exception."
   ],
   "metadata": {
    "collapsed": false
   },
   "id": "342eca4ea8f8196b"
  },
  {
   "cell_type": "code",
   "execution_count": 15,
   "outputs": [
    {
     "name": "stdout",
     "output_type": "stream",
     "text": [
      "2.0\n",
      "Cannot divide by zero\n"
     ]
    }
   ],
   "source": [
    "class CustomException(Exception):\n",
    "    pass\n",
    "\n",
    "def divide(x, y):\n",
    "    if y == 0:\n",
    "        raise CustomException(\"Cannot divide by zero\")\n",
    "    return x / y\n",
    "\n",
    "try:\n",
    "    print(divide(10, 5)) # Output: 2.0\n",
    "    print(divide(10, 0))\n",
    "except CustomException as e:\n",
    "    print(e) # Output: Cannot divide by zero\n",
    "     "
   ],
   "metadata": {
    "collapsed": false,
    "ExecuteTime": {
     "end_time": "2023-11-01T11:29:52.599748100Z",
     "start_time": "2023-11-01T11:29:52.462394800Z"
    }
   },
   "id": "a6e486066193310c"
  },
  {
   "cell_type": "code",
   "execution_count": null,
   "outputs": [],
   "source": [],
   "metadata": {
    "collapsed": false
   },
   "id": "5e3e4f3d7c4fb848"
  }
 ],
 "metadata": {
  "kernelspec": {
   "display_name": "Python 3",
   "language": "python",
   "name": "python3"
  },
  "language_info": {
   "codemirror_mode": {
    "name": "ipython",
    "version": 2
   },
   "file_extension": ".py",
   "mimetype": "text/x-python",
   "name": "python",
   "nbconvert_exporter": "python",
   "pygments_lexer": "ipython2",
   "version": "2.7.6"
  }
 },
 "nbformat": 4,
 "nbformat_minor": 5
}
