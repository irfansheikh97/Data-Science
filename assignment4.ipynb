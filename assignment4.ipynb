{
 "cells": [
  {
   "cell_type": "code",
   "execution_count": 1,
   "id": "b5235d7c",
   "metadata": {},
   "outputs": [],
   "source": [
    "## Who developed Python ProgrammJng language?\n",
    "\n",
    "##Python programming language was created by Guido van Rossum. Guido van Rossum began working on Python in the late 1980s, and the first official release, Python 0.9.0, was released in February 1991."
   ]
  },
  {
   "cell_type": "code",
   "execution_count": 2,
   "id": "e13d81f4",
   "metadata": {},
   "outputs": [
    {
     "data": {
      "text/plain": [
       "\"Python is a versatile programming language that supports various programming paradigms, making it suitable for a wide range of applications and use cases. Here are some of the programming paradigms that Python supports:\\n\\nImperative: Python allows you to write imperative code, which consists of sequences of statements that change a program's state. You can use assignments, loops, and conditional statements in an imperative style.\\n\\nProcedural: Python supports procedural programming, where you can organize your code into functions and procedures. It encourages breaking down a program into smaller, reusable functions.\\n\\nObject-Oriented: Python is a fully object-oriented programming language. You can define classes and create objects, encapsulating data and behavior into objects. Inheritance, polymorphism, and encapsulation are fundamental principles of Python's object-oriented programming.\\n\\nFunctional: Python supports functional programming concepts. You can use functions as first-class objects, pass functions as arguments, and return functions from other functions. Python provides built-in functions like map(), filter(), and reduce() for functional-style programming.\\n\\nScripting: Python is often used as a scripting language for automating tasks, system administration, and rapid prototyping. Its concise and readable syntax makes it well-suited for scripting.\\n\\nDynamic Typing: Python is dynamically typed, meaning you don't need to specify the data type of a variable explicitly. The interpreter infers the data type at runtime.\\n\\nHigh-Level: Python is a high-level language, which means it abstracts many low-level details, making it easier to write code without worrying about memory management or hardware-specific operations.\\n\\nCross-Platform: Python is platform-independent, allowing you to write code that can run on various operating systems without modification.\\n\\nExtensible: Python can be easily extended by integrating C/C++ code, making it suitable for performance-critical tasks.\\n\\nLibraries: Python has a vast standard library and a rich ecosystem of third-party libraries and frameworks, making it suitable for a wide range of applications, including web development, data analysis, machine learning, scientific computing, and more.\""
      ]
     },
     "execution_count": 2,
     "metadata": {},
     "output_type": "execute_result"
    }
   ],
   "source": [
    "## 2. Which typo of Programming does Python support?\n",
    "\n",
    "\"\"\"Python is a versatile programming language that supports various programming paradigms, making it suitable for a wide range of applications and use cases. Here are some of the programming paradigms that Python supports:\n",
    "\n",
    "Imperative: Python allows you to write imperative code, which consists of sequences of statements that change a program's state. You can use assignments, loops, and conditional statements in an imperative style.\n",
    "\n",
    "Procedural: Python supports procedural programming, where you can organize your code into functions and procedures. It encourages breaking down a program into smaller, reusable functions.\n",
    "\n",
    "Object-Oriented: Python is a fully object-oriented programming language. You can define classes and create objects, encapsulating data and behavior into objects. Inheritance, polymorphism, and encapsulation are fundamental principles of Python's object-oriented programming.\n",
    "\n",
    "Functional: Python supports functional programming concepts. You can use functions as first-class objects, pass functions as arguments, and return functions from other functions. Python provides built-in functions like map(), filter(), and reduce() for functional-style programming.\n",
    "\n",
    "Scripting: Python is often used as a scripting language for automating tasks, system administration, and rapid prototyping. Its concise and readable syntax makes it well-suited for scripting.\n",
    "\n",
    "Dynamic Typing: Python is dynamically typed, meaning you don't need to specify the data type of a variable explicitly. The interpreter infers the data type at runtime.\n",
    "\n",
    "High-Level: Python is a high-level language, which means it abstracts many low-level details, making it easier to write code without worrying about memory management or hardware-specific operations.\n",
    "\n",
    "Cross-Platform: Python is platform-independent, allowing you to write code that can run on various operating systems without modification.\n",
    "\n",
    "Extensible: Python can be easily extended by integrating C/C++ code, making it suitable for performance-critical tasks.\n",
    "\n",
    "Libraries: Python has a vast standard library and a rich ecosystem of third-party libraries and frameworks, making it suitable for a wide range of applications, including web development, data analysis, machine learning, scientific computing, and more.\"\"\""
   ]
  },
  {
   "cell_type": "code",
   "execution_count": 3,
   "id": "f60b02c9",
   "metadata": {},
   "outputs": [],
   "source": [
    "## 3. Is Python case sensitive when dealing with Identifiers?\n",
    "## Yes, Python is case-sensitive when dealing with identifiers. This means that Python treats uppercase and lowercase letters as distinct characters in variable names, function names, class names, and other identifiers."
   ]
  },
  {
   "cell_type": "code",
   "execution_count": 4,
   "id": "10211852",
   "metadata": {},
   "outputs": [],
   "source": [
    "## 4. What Is tho conoct extension of tho Python flle?\n",
    "## .py is tho correct extension of tho Python flle."
   ]
  },
  {
   "cell_type": "code",
   "execution_count": 5,
   "id": "54dd9b4d",
   "metadata": {},
   "outputs": [],
   "source": [
    "## 5. Is Python code compiled or Interpreted? \n",
    "## Python is an interpreted programming language. When you write Python code, you create a source code file with a .py extension. This source code is not directly executed by the computer's hardware; instead, it is processed by the Python interpreter. "
   ]
  },
  {
   "cell_type": "code",
   "execution_count": 6,
   "id": "9c869ebd",
   "metadata": {},
   "outputs": [
    {
     "data": {
      "text/plain": [
       "'In Python, code blocks are defined using indentation. Indentation is crucial for indicating the scope and grouping of statements in your code. Unlike many other programming languages that use curly braces {} or other explicit block delimiters, Python relies on consistent and meaningful indentation to determine the structure of the code.\\n\\nHere are a few common code blocks in Python:\\n\\ndef my_function():\\n    # Code inside the function\\n    pass  # Placeholder statement\\n\\nif condition:\\n    # Code for the \"if\" block\\nelif another_condition:\\n    # Code for the \"elif\" block\\nelse:\\n    # Code for the \"else\" block (optional)\\n\\nfor item in iterable:\\n    # Code inside the \"for\" loop\\n\\nwhile condition:\\n    # Code inside the \"while\" loop\\n\\nclass MyClass:\\n    def __init__(self, attribute):\\n        self.attribute = attribute\\n\\n    def some_method(self):\\n        # Code inside a class method\\n'"
      ]
     },
     "execution_count": 6,
     "metadata": {},
     "output_type": "execute_result"
    }
   ],
   "source": [
    "## 6. Name a few blocks of code used to define In Python language?\n",
    "\n",
    "\"\"\"In Python, code blocks are defined using indentation. Indentation is crucial for indicating the scope and grouping of statements in your code. Unlike many other programming languages that use curly braces {} or other explicit block delimiters, Python relies on consistent and meaningful indentation to determine the structure of the code.\n",
    "\n",
    "Here are a few common code blocks in Python:\n",
    "\n",
    "def my_function():\n",
    "    # Code inside the function\n",
    "    pass  # Placeholder statement\n",
    "\n",
    "if condition:\n",
    "    # Code for the \"if\" block\n",
    "elif another_condition:\n",
    "    # Code for the \"elif\" block\n",
    "else:\n",
    "    # Code for the \"else\" block (optional)\n",
    "\n",
    "for item in iterable:\n",
    "    # Code inside the \"for\" loop\n",
    "\n",
    "while condition:\n",
    "    # Code inside the \"while\" loop\n",
    "\n",
    "class MyClass:\n",
    "    def __init__(self, attribute):\n",
    "        self.attribute = attribute\n",
    "\n",
    "    def some_method(self):\n",
    "        # Code inside a class method\n",
    "\"\"\""
   ]
  },
  {
   "cell_type": "code",
   "execution_count": 7,
   "id": "60cebff2",
   "metadata": {},
   "outputs": [],
   "source": [
    "## 7. State a character used to give single-lino comments In Python?\n",
    "## In Python, you can create single-line comments by using the # (hash) character. "
   ]
  },
  {
   "cell_type": "code",
   "execution_count": 8,
   "id": "283040bd",
   "metadata": {},
   "outputs": [],
   "source": [
    "## 8. Mention functions which can help us to find the version of python that we are currently working on?\n",
    "\n",
    "## You can use the sys module to access information about the Python interpreter, including the version number. Here's an example:\n",
    "# import sys\n",
    "#print(\"Python Version:\", sys.version)\n"
   ]
  },
  {
   "cell_type": "code",
   "execution_count": 9,
   "id": "e73165f4",
   "metadata": {},
   "outputs": [],
   "source": [
    "# Python supports the creation of anonymous functions at runtime, using a construct called------?\n",
    "\n",
    "## Python supports the creation of anonymous functions at runtime using a construct called \"lambda\" functions. "
   ]
  },
  {
   "cell_type": "code",
   "execution_count": 10,
   "id": "789bbccd",
   "metadata": {},
   "outputs": [],
   "source": [
    "# 10. What does pip stand for python?\n",
    "## The name \"pip\" is a recursive acronym, which means it's a playful self-referential abbreviation. The word \"pip\" itself is derived from \"Pip Installs Packages\" or \"Pip Installs Python\" (although the latter interpretation is less common). It reflects the primary purpose of the tool, which is to install Python packages and their dependencies."
   ]
  },
  {
   "cell_type": "code",
   "execution_count": 11,
   "id": "0e279163",
   "metadata": {},
   "outputs": [
    {
     "data": {
      "text/plain": [
       "'print(): Used to display output to the console.\\n\\ninput(): Reads a line of text from the user via the console.\\n\\nlen(): Returns the length (number of elements) of an iterable, such as a string, list, or tuple.\\n\\ntype(): Returns the type of an object.\\n\\nint(), float(), str(), list(), tuple(), dict(), set(): Functions for type conversion.\\n\\nrange(): Generates a sequence of numbers within a specified range.\\n\\nmax(): Returns the maximum value from an iterable or a series of arguments.\\n\\nmin(): Returns the minimum value from an iterable or a series of arguments.\\n\\nsum(): Returns the sum of all elements in an iterable.\\n\\nabs(): Returns the absolute value of a number.'"
      ]
     },
     "execution_count": 11,
     "metadata": {},
     "output_type": "execute_result"
    }
   ],
   "source": [
    "# 11. Mention a few bullt-ln functions In python?\n",
    "\"\"\"print(): Used to display output to the console.\n",
    "\n",
    "input(): Reads a line of text from the user via the console.\n",
    "\n",
    "len(): Returns the length (number of elements) of an iterable, such as a string, list, or tuple.\n",
    "\n",
    "type(): Returns the type of an object.\n",
    "\n",
    "int(), float(), str(), list(), tuple(), dict(), set(): Functions for type conversion.\n",
    "\n",
    "range(): Generates a sequence of numbers within a specified range.\n",
    "\n",
    "max(): Returns the maximum value from an iterable or a series of arguments.\n",
    "\n",
    "min(): Returns the minimum value from an iterable or a series of arguments.\n",
    "\n",
    "sum(): Returns the sum of all elements in an iterable.\n",
    "\n",
    "abs(): Returns the absolute value of a number.\"\"\""
   ]
  },
  {
   "cell_type": "code",
   "execution_count": 12,
   "id": "7198f303",
   "metadata": {},
   "outputs": [],
   "source": [
    "# What Is the maximum possible length of an identifier In Python?\n",
    "## In Python, the maximum possible length of an identifier (variable name, function name, class name, etc.) is not explicitly defined by a specific character count. Instead, the length of an identifier is determined by the maximum allowable length of a name in the system's underlying file system and the Python interpreter's implementation limits."
   ]
  },
  {
   "cell_type": "code",
   "execution_count": 13,
   "id": "d7566eeb",
   "metadata": {},
   "outputs": [
    {
     "data": {
      "text/plain": [
       "\"Python is a popular programming language known for its versatility, readability, and a wide range of applications. Here are some of the key benefits of using Python:\\n\\nReadability and Maintainability: Python's clean and easy-to-read syntax makes it an excellent choice for beginners and experienced programmers alike. Its consistent indentation enforces good code formatting practices, which enhances code maintainability.\\n\\nExtensive Standard Library: Python comes with a comprehensive standard library that includes modules and packages for various tasks, such as file I/O, regular expressions, networking, web development, data manipulation, and more. This reduces the need for third-party libraries and makes it easy to accomplish a wide range of tasks out of the box.\\n\\nCross-Platform Compatibility: Python is available on multiple platforms, including Windows, macOS, and Linux, making it highly portable. This allows you to write code that can run on different operating systems without modification.\\n\\nRich Ecosystem: Python has a vast ecosystem of third-party libraries and frameworks that extend its functionality. For example, libraries like NumPy, pandas, Matplotlib, and TensorFlow are widely used for data analysis, machine learning, and scientific computing.\\n\\nCommunity and Support: Python has a large and active community of developers, which means you can find extensive documentation, tutorials, and online resources. You can also seek help from the Python community through forums, mailing lists, and social media.\\n\\nOpen Source: Python is open source and free to use, which makes it accessible to a broad audience. It's also continually improved and updated by the community.\\n\\nHigh-Level Language: Python's high-level nature abstracts many low-level details, which simplifies development and allows for rapid prototyping. It's an excellent choice for both beginners and experienced developers.\\n\\nDynamic Typing: Python uses dynamic typing, which means you don't need to specify variable types explicitly. This flexibility speeds up development and simplifies code maintenance.\\n\\nSupport for Multiple Programming Paradigms: Python supports various programming paradigms, including imperative, object-oriented, functional, and procedural programming, allowing you to choose the style that suits your project.\\n\\nIntegration: Python can easily integrate with other languages like C, C++, and Java, allowing you to leverage existing codebases and libraries.\\n\\nWeb Development: Python has popular web frameworks like Django and Flask that simplify web development, making it a popular choice for building web applications.\\n\\nData Science and Machine Learning: Python's libraries, such as NumPy, pandas, scikit-learn, and TensorFlow, make it a leading choice for data science and machine learning applications.\\n\\nAutomation and Scripting: Python is excellent for automating tasks and scripting, making it a valuable tool for system administrators and DevOps professionals.\""
      ]
     },
     "execution_count": 13,
     "metadata": {},
     "output_type": "execute_result"
    }
   ],
   "source": [
    "# 13. What are the benefits of using Python?\n",
    "\"\"\"Python is a popular programming language known for its versatility, readability, and a wide range of applications. Here are some of the key benefits of using Python:\n",
    "\n",
    "Readability and Maintainability: Python's clean and easy-to-read syntax makes it an excellent choice for beginners and experienced programmers alike. Its consistent indentation enforces good code formatting practices, which enhances code maintainability.\n",
    "\n",
    "Extensive Standard Library: Python comes with a comprehensive standard library that includes modules and packages for various tasks, such as file I/O, regular expressions, networking, web development, data manipulation, and more. This reduces the need for third-party libraries and makes it easy to accomplish a wide range of tasks out of the box.\n",
    "\n",
    "Cross-Platform Compatibility: Python is available on multiple platforms, including Windows, macOS, and Linux, making it highly portable. This allows you to write code that can run on different operating systems without modification.\n",
    "\n",
    "Rich Ecosystem: Python has a vast ecosystem of third-party libraries and frameworks that extend its functionality. For example, libraries like NumPy, pandas, Matplotlib, and TensorFlow are widely used for data analysis, machine learning, and scientific computing.\n",
    "\n",
    "Community and Support: Python has a large and active community of developers, which means you can find extensive documentation, tutorials, and online resources. You can also seek help from the Python community through forums, mailing lists, and social media.\n",
    "\n",
    "Open Source: Python is open source and free to use, which makes it accessible to a broad audience. It's also continually improved and updated by the community.\n",
    "\n",
    "High-Level Language: Python's high-level nature abstracts many low-level details, which simplifies development and allows for rapid prototyping. It's an excellent choice for both beginners and experienced developers.\n",
    "\n",
    "Dynamic Typing: Python uses dynamic typing, which means you don't need to specify variable types explicitly. This flexibility speeds up development and simplifies code maintenance.\n",
    "\n",
    "Support for Multiple Programming Paradigms: Python supports various programming paradigms, including imperative, object-oriented, functional, and procedural programming, allowing you to choose the style that suits your project.\n",
    "\n",
    "Integration: Python can easily integrate with other languages like C, C++, and Java, allowing you to leverage existing codebases and libraries.\n",
    "\n",
    "Web Development: Python has popular web frameworks like Django and Flask that simplify web development, making it a popular choice for building web applications.\n",
    "\n",
    "Data Science and Machine Learning: Python's libraries, such as NumPy, pandas, scikit-learn, and TensorFlow, make it a leading choice for data science and machine learning applications.\n",
    "\n",
    "Automation and Scripting: Python is excellent for automating tasks and scripting, making it a valuable tool for system administrators and DevOps professionals.\"\"\""
   ]
  },
  {
   "cell_type": "code",
   "execution_count": 14,
   "id": "d19164d0",
   "metadata": {},
   "outputs": [
    {
     "data": {
      "text/plain": [
       "'Memory management in Python is handled automatically by the Python interpreter, and it employs a combination of techniques to efficiently allocate and deallocate memory. Here are some key aspects of memory management in Python:\\n\\nReference Counting: Python uses reference counting as a fundamental technique for managing memory. Each object in Python has an associated reference count, which tracks the number of references to that object. When the reference count drops to zero, it means that the object is no longer accessible, and Python\\'s memory manager can safely deallocate the memory used by that object.\\n\\nGarbage Collection: In addition to reference counting, Python also employs a cyclic garbage collector to identify and collect objects that may not be directly accessible through reference counting but are still unreachable by the program. This garbage collector periodically runs to free up memory occupied by objects with circular references (i.e., objects referencing each other in a way that prevents them from being collected by reference counting alone).\\n\\nMemory Allocation: Python\\'s memory manager handles the allocation of memory for objects, including the determination of object sizes, storage location, and efficient use of memory pools. Python\\'s memory allocator, known as \"PyMalloc,\" manages memory in small blocks called \"pymalloc arenas\" to reduce memory fragmentation.\\n\\nMemory Pools: Python uses a mechanism called \"memory pools\" to manage small object allocations more efficiently. Objects of certain sizes (e.g., integers, strings, and small lists) are allocated from pre-allocated memory pools. This reduces the overhead associated with allocating and deallocating memory for these objects.\\n\\nMemory Optimizations: Python employs various memory optimization techniques, such as reusing memory for small integers (-5 to 256), string interning (caching identical string objects), and memory-efficient data structures like dictionaries and sets.\\n\\nManual Memory Management: While Python handles most memory management tasks automatically, developers can use techniques like the del statement to explicitly delete references to objects, allowing them to release memory earlier than Python\\'s automatic mechanisms might dictate. However, explicit memory management is rarely needed and should be used judiciously.\\n\\nMemory Profiling: Python provides tools and libraries for memory profiling, which allow developers to analyze memory usage in their programs and identify potential memory leaks or performance bottlenecks.'"
      ]
     },
     "execution_count": 14,
     "metadata": {},
     "output_type": "execute_result"
    }
   ],
   "source": [
    "# 14. How Is memory managed In Python? \n",
    "\n",
    "\"\"\"Memory management in Python is handled automatically by the Python interpreter, and it employs a combination of techniques to efficiently allocate and deallocate memory. Here are some key aspects of memory management in Python:\n",
    "\n",
    "Reference Counting: Python uses reference counting as a fundamental technique for managing memory. Each object in Python has an associated reference count, which tracks the number of references to that object. When the reference count drops to zero, it means that the object is no longer accessible, and Python's memory manager can safely deallocate the memory used by that object.\n",
    "\n",
    "Garbage Collection: In addition to reference counting, Python also employs a cyclic garbage collector to identify and collect objects that may not be directly accessible through reference counting but are still unreachable by the program. This garbage collector periodically runs to free up memory occupied by objects with circular references (i.e., objects referencing each other in a way that prevents them from being collected by reference counting alone).\n",
    "\n",
    "Memory Allocation: Python's memory manager handles the allocation of memory for objects, including the determination of object sizes, storage location, and efficient use of memory pools. Python's memory allocator, known as \"PyMalloc,\" manages memory in small blocks called \"pymalloc arenas\" to reduce memory fragmentation.\n",
    "\n",
    "Memory Pools: Python uses a mechanism called \"memory pools\" to manage small object allocations more efficiently. Objects of certain sizes (e.g., integers, strings, and small lists) are allocated from pre-allocated memory pools. This reduces the overhead associated with allocating and deallocating memory for these objects.\n",
    "\n",
    "Memory Optimizations: Python employs various memory optimization techniques, such as reusing memory for small integers (-5 to 256), string interning (caching identical string objects), and memory-efficient data structures like dictionaries and sets.\n",
    "\n",
    "Manual Memory Management: While Python handles most memory management tasks automatically, developers can use techniques like the del statement to explicitly delete references to objects, allowing them to release memory earlier than Python's automatic mechanisms might dictate. However, explicit memory management is rarely needed and should be used judiciously.\n",
    "\n",
    "Memory Profiling: Python provides tools and libraries for memory profiling, which allow developers to analyze memory usage in their programs and identify potential memory leaks or performance bottlenecks.\"\"\""
   ]
  },
  {
   "cell_type": "code",
   "execution_count": 15,
   "id": "fb4ab530",
   "metadata": {},
   "outputs": [
    {
     "ename": "SyntaxError",
     "evalue": "(unicode error) 'unicodeescape' codec can't decode bytes in position 1729-1730: truncated \\UXXXXXXXX escape (Temp/ipykernel_13332/1504391540.py, line 43)",
     "output_type": "error",
     "traceback": [
      "\u001b[1;36m  File \u001b[1;32m\"C:\\Users\\welcome\\AppData\\Local\\Temp/ipykernel_13332/1504391540.py\"\u001b[1;36m, line \u001b[1;32m43\u001b[0m\n\u001b[1;33m    You can exit the Python interpreter by typing exit() or pressing Ctrl + Z followed by Enter.\"\"\"\u001b[0m\n\u001b[1;37m                                                                                                   ^\u001b[0m\n\u001b[1;31mSyntaxError\u001b[0m\u001b[1;31m:\u001b[0m (unicode error) 'unicodeescape' codec can't decode bytes in position 1729-1730: truncated \\UXXXXXXXX escape\n"
     ]
    }
   ],
   "source": [
    "# 15. How to Install Python on Windows and set path variables?\n",
    "\"\"\"To install Python on Windows and set the necessary path variables, follow these steps:\n",
    "\n",
    "Download Python:\n",
    "\n",
    "Visit the official Python website at https://www.python.org/downloads/windows/.\n",
    "Click on the \"Download Python\" button for the latest version of Python for Windows.\n",
    "Run the Installer:\n",
    "\n",
    "After downloading the installer executable, double-click on it to run it.\n",
    "Ensure that you check the box that says \"Add Python x.y to PATH\" during installation. This is essential for setting the PATH variable automatically.\n",
    "Customize Installation (Optional):\n",
    "\n",
    "You can click the \"Customize installation\" button to customize the installation settings if needed.\n",
    "It's recommended to leave the default settings unless you have specific requirements.\n",
    "Install Python:\n",
    "\n",
    "Click the \"Install Now\" button to begin the installation.\n",
    "Python will be installed with the selected settings.\n",
    "Verify Installation:\n",
    "\n",
    "To verify that Python is installed correctly, open a Command Prompt:\n",
    "Press Win + R, type cmd, and press Enter.\n",
    "In the Command Prompt, type the following command and press Enter:\n",
    "css\n",
    "Copy code\n",
    "python --version\n",
    "This command should display the installed Python version.\n",
    "Set Environment Variables (Optional):\n",
    "\n",
    "By checking the \"Add Python x.y to PATH\" during installation, Python should already be added to the system PATH variable.\n",
    "If for some reason it's not added, you can manually add Python to the PATH variable:\n",
    "Right-click on \"This PC\" (or \"My Computer\") and select \"Properties.\"\n",
    "Click on \"Advanced system settings\" on the left sidebar.\n",
    "Click the \"Environment Variables\" button.\n",
    "In the \"System Variables\" section, scroll down and find the \"Path\" variable.\n",
    "Click \"Edit\" and then \"New.\"\n",
    "Add the path to Python's installation directory (e.g., C:\\Users\\<your username>\\AppData\\Local\\Programs\\Python\\Pythonxy) and click \"OK.\"\n",
    "Test Python:\n",
    "\n",
    "Open a new Command Prompt window and type python to start the Python interpreter.\n",
    "You should see the Python prompt (>>>) indicating that Python is working correctly.\n",
    "You can exit the Python interpreter by typing exit() or pressing Ctrl + Z followed by Enter.\"\"\"\n"
   ]
  },
  {
   "cell_type": "code",
   "execution_count": null,
   "id": "d1ec4291",
   "metadata": {},
   "outputs": [],
   "source": [
    "# 16. Is Indentation required In python?\n",
    "## Yes, indentation is required in Python. Indentation is a fundamental aspect of Python's syntax and is used to define the structure and grouping of code blocks. In Python, indentation is not just a matter of style or readability; it is a part of the language's grammar."
   ]
  }
 ],
 "metadata": {
  "kernelspec": {
   "display_name": "Python 3 (ipykernel)",
   "language": "python",
   "name": "python3"
  },
  "language_info": {
   "codemirror_mode": {
    "name": "ipython",
    "version": 3
   },
   "file_extension": ".py",
   "mimetype": "text/x-python",
   "name": "python",
   "nbconvert_exporter": "python",
   "pygments_lexer": "ipython3",
   "version": "3.9.7"
  }
 },
 "nbformat": 4,
 "nbformat_minor": 5
}
