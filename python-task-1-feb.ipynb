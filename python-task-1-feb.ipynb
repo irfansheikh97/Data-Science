{
 "cells": [
  {
   "cell_type": "code",
   "execution_count": 6,
   "id": "3ea86a70",
   "metadata": {
    "scrolled": false
   },
   "outputs": [
    {
     "name": "stdout",
     "output_type": "stream",
     "text": [
      "[1, 2, 3, 4, 44, 55, 66, 34, 56, 78, 89, 34, 1, 2, 3, 1, 34, 55, 67, 78, 89, 4, 45, 22, 61, 34, 56]\n",
      "The product of after creating the flat list fron given list is 4134711838987085478833841242112000\n"
     ]
    }
   ],
   "source": [
    "## Create a function which will take a list as an argument and return the product of all the numbers after creating a flat list. Use the below-given list as an argument for your function.\n",
    "from functools import reduce\n",
    "list1 = [1,2,3,4, [44,55,66, True], False, (34,56,78,89,34), {1,2,3,3,2,1}, {1:34, \"key2\": [55, 67, 78, 89], 4: (45,\n",
    "22, 61, 34)}, [56, 'data science'], 'Machine Learning']\n",
    "\n",
    "list2 = []\n",
    "\n",
    "def sort_list(lst):\n",
    "    for x in lst:\n",
    "        if type(x) == list:\n",
    "            for y in x:\n",
    "                if type(y) == int:\n",
    "                    list2.append(y)\n",
    "        elif type(x) == tuple:\n",
    "            for z in x:\n",
    "                if type(z) == int:\n",
    "                    list2.append(z)\n",
    "        elif type(x) == set:\n",
    "            for a in x:\n",
    "                if type(a) == int:\n",
    "                    list2.append(a)\n",
    "        elif type(x) == dict:\n",
    "            list3 = []\n",
    "            for i,j in x.items():\n",
    "                if isinstance(i, (int, list, tuple, str, dict)):\n",
    "                    list3.append(i)\n",
    "                if isinstance(j, (int, list, tuple, str, dict)):\n",
    "                    list3.append(j)\n",
    "            for m in list3:\n",
    "                if type(m)==list:\n",
    "                    for k in m:\n",
    "                        if type(k)==int:\n",
    "                            list2.append(k)\n",
    "                elif type(m)== tuple:\n",
    "                    for b in m:\n",
    "                        if type(b)==int:\n",
    "                            list2.append(b)\n",
    "                elif type(m)==int:\n",
    "                    list2.append(m)    \n",
    "        elif type(x) == int:\n",
    "            list2.append(x)\n",
    "\n",
    "sort_list(list1)\n",
    "print(list2)\n",
    "result = reduce(lambda x, y: x*y, list2)\n",
    "print(\"The product of after creating the flat list fron given list is\", result)"
   ]
  },
  {
   "cell_type": "code",
   "execution_count": 12,
   "id": "ddcb3bda",
   "metadata": {},
   "outputs": [
    {
     "name": "stdout",
     "output_type": "stream",
     "text": [
      "Original Sentence: I want to become a Data Scientist.\n",
      "Encrypted Sentence: r$dzmg$gl$yvxlnv$z$wzgz$hxrvmgrhg.\n"
     ]
    }
   ],
   "source": [
    "##Q2. Write a python program for encrypting a message sent to you by your friend. The logic of encryption\n",
    "#should be such that, for a the output should be z. For b, the output should be y. For c, the output should\n",
    "#be x respectively. Also, the whitespace should be replaced with a dollar sign. Keep the punctuation\n",
    "#marks unchanged.\n",
    "\n",
    "def encrypt_message(message):\n",
    "    encrypted = \"\"\n",
    "    for char in message:\n",
    "        if char.isalpha():\n",
    "            # Check if the character is a letter (alphabetical)\n",
    "            if char.islower():\n",
    "                # For lowercase letters\n",
    "                encrypted += chr(ord('z') - (ord(char) - ord('a')))\n",
    "            else:\n",
    "                # For uppercase letters\n",
    "                encrypted += chr(ord('Z') - (ord(char) - ord('A')))\n",
    "        elif char.isspace():\n",
    "            # Replace whitespace with a dollar sign\n",
    "            encrypted += \"$\"\n",
    "        else:\n",
    "            # Keep punctuation marks unchanged\n",
    "            encrypted += char\n",
    "    return encrypted\n",
    "\n",
    "input_sentence = \"I want to become a Data Scientist.\"\n",
    "encrypted_sentence = encrypt_message(input_sentence)\n",
    "\n",
    "print(\"Original Sentence: \" + input_sentence)\n",
    "print(\"Encrypted Sentence: \" + encrypted_sentence.lower())\n"
   ]
  },
  {
   "cell_type": "code",
   "execution_count": null,
   "id": "fdd497af",
   "metadata": {},
   "outputs": [],
   "source": []
  }
 ],
 "metadata": {
  "kernelspec": {
   "display_name": "Python 3 (ipykernel)",
   "language": "python",
   "name": "python3"
  },
  "language_info": {
   "codemirror_mode": {
    "name": "ipython",
    "version": 3
   },
   "file_extension": ".py",
   "mimetype": "text/x-python",
   "name": "python",
   "nbconvert_exporter": "python",
   "pygments_lexer": "ipython3",
   "version": "3.9.7"
  }
 },
 "nbformat": 4,
 "nbformat_minor": 5
}
