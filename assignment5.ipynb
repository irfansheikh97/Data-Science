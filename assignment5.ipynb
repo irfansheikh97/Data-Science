{
 "cells": [
  {
   "cell_type": "markdown",
   "id": "983da0d5",
   "metadata": {},
   "source": [
    "# ## 30th Jan Python Assignment"
   ]
  },
  {
   "cell_type": "code",
   "execution_count": 5,
   "id": "99aacad3",
   "metadata": {},
   "outputs": [
    {
     "name": "stdout",
     "output_type": "stream",
     "text": [
      "Enter your percentage : 99\n",
      "Your grade is A\n"
     ]
    }
   ],
   "source": [
    "## solution 1\n",
    "user_percentage = int(input(\"Enter your percentage : \"))\n",
    "\n",
    "if user_percentage < 60:\n",
    "    print(\"Your grade is D\")\n",
    "elif user_percentage >= 60 and user_percentage <= 80:\n",
    "    print(\"Your grade is C\")\n",
    "elif user_percentage > 80 and user_percentage <= 90:\n",
    "    print(\"Your grade is B\")\n",
    "else:\n",
    "    print(\"Your grade is A\")"
   ]
  },
  {
   "cell_type": "code",
   "execution_count": 8,
   "id": "1e24b62c",
   "metadata": {},
   "outputs": [
    {
     "name": "stdout",
     "output_type": "stream",
     "text": [
      "Enter the cost price of the bike: 50000\n",
      "Road Tax to be paid: 2500.0 INR\n"
     ]
    }
   ],
   "source": [
    "## solution 2\n",
    "cost_price = int(input(\"Enter the cost price of the bike: \"))\n",
    "\n",
    "# Calculate the road tax based on the criteria\n",
    "if cost_price > 100000:\n",
    "    road_tax = 0.15 * cost_price\n",
    "elif cost_price > 50000 and cost_price <= 100000:\n",
    "    road_tax = 0.10 * cost_price\n",
    "else:\n",
    "    road_tax = 0.05 * cost_price\n",
    "\n",
    "# Display the road tax amount\n",
    "print(f\"Road Tax to be paid: {road_tax} INR\")\n"
   ]
  },
  {
   "cell_type": "code",
   "execution_count": 12,
   "id": "19d49db5",
   "metadata": {},
   "outputs": [
    {
     "name": "stdout",
     "output_type": "stream",
     "text": [
      "Enter your city: jaipur\n",
      "Monument in city is Jal Mahal\n"
     ]
    }
   ],
   "source": [
    "## solution 3\n",
    "user_city = input(\"Enter your city: \").lower()\n",
    "\n",
    "if user_city == \"delhi\":\n",
    "    print(\"Monument in city is Red Fort\")\n",
    "elif user_city == \"agra\":\n",
    "    print(\"Monument in city is Taj Mahal\")\n",
    "elif user_city == \"jaipur\":\n",
    "    print(\"Monument in city is Jal Mahal\")\n",
    "else:\n",
    "    print(\"Enter city between Delhi, Agra and Jaipur\")\n"
   ]
  },
  {
   "cell_type": "code",
   "execution_count": 1,
   "id": "a5d00e02",
   "metadata": {},
   "outputs": [
    {
     "name": "stdout",
     "output_type": "stream",
     "text": [
      "Enter a number : 3434\n",
      "The number can be divided by 3 is 6 times before it is less than or equal to 10.\n"
     ]
    }
   ],
   "source": [
    "# solution 4\n",
    "user_input = int(input(\"Enter a number : \"))\n",
    "num = 0\n",
    "while user_input > 10:\n",
    "    user_input /= 3\n",
    "    num += 1\n",
    "    \n",
    "print(f\"The number can be divided by 3 is {num} times before it is less than or equal to 10.\")\n"
   ]
  },
  {
   "cell_type": "code",
   "execution_count": 3,
   "id": "b3f87e89",
   "metadata": {},
   "outputs": [
    {
     "data": {
      "text/plain": [
       "'A while loop in Python is used for repeatedly executing a block of code as long as a specified condition is True. It allows you to create loops with dynamic termination conditions, making it useful for situations where you don\\'t know in advance how many iterations are needed. Here\\'s a detailed explanation of when and why to use a while loop in Python, along with an example:\\n\\nWhy Use a While Loop:\\n\\nUnknown Number of Iterations: While loops are suitable when you don\\'t know in advance how many times you need to repeat a task. The loop continues until a specified condition is met.\\n\\nDynamic Conditions: While loops are ideal for situations where the loop termination depends on a dynamic condition that may change during execution.\\n\\nContinuous Execution: While loops allow you to keep a block of code running until a specific condition is no longer satisfied, making them useful for tasks that require continuous monitoring or polling.\\n\\nWhen to Use a While Loop:\\n\\nHere are some common scenarios where while loops are used:\\n\\nUser Input Validation: When you want to ensure that user input meets specific criteria, you can use a while loop to repeatedly prompt the user until valid input is provided.\\n\\nSearching and Processing Data: While loops are useful for searching through data until a specific condition, such as finding a particular item or reaching the end of a dataset, is met.\\n\\nReal-Time Control: In applications involving real-time control or simulations, while loops can keep a process running until certain conditions are satisfied.\\n\\nImplementing Games and Interactive Applications: Games often use while loops to continuously update game states and respond to user actions.\\n\\nEvent Handling: While loops can be used for event-driven programming to process events or messages as long as there are events to handle.\\n\\nExample of Using a While Loop:\\n\\nHere\\'s an example of using a while loop to repeatedly prompt the user for a positive number until valid input is provided:\\nwhile True:\\n    try:\\n        user_input = int(input(\"Enter a positive number: \"))\\n        if user_input > 0:\\n            print(f\"You entered a positive number: {user_input}\")\\n            break  # Exit the loop when valid input is provided\\n        else:\\n            print(\"Please enter a positive number.\")\\n    except ValueError:\\n        print(\"Invalid input. Please enter a valid number.\")\\n'"
      ]
     },
     "execution_count": 3,
     "metadata": {},
     "output_type": "execute_result"
    }
   ],
   "source": [
    "# solution 5\n",
    "\n",
    "\"\"\"A while loop in Python is used for repeatedly executing a block of code as long as a specified condition is True. It allows you to create loops with dynamic termination conditions, making it useful for situations where you don't know in advance how many iterations are needed. Here's a detailed explanation of when and why to use a while loop in Python, along with an example:\n",
    "\n",
    "Why Use a While Loop:\n",
    "\n",
    "Unknown Number of Iterations: While loops are suitable when you don't know in advance how many times you need to repeat a task. The loop continues until a specified condition is met.\n",
    "\n",
    "Dynamic Conditions: While loops are ideal for situations where the loop termination depends on a dynamic condition that may change during execution.\n",
    "\n",
    "Continuous Execution: While loops allow you to keep a block of code running until a specific condition is no longer satisfied, making them useful for tasks that require continuous monitoring or polling.\n",
    "\n",
    "When to Use a While Loop:\n",
    "\n",
    "Here are some common scenarios where while loops are used:\n",
    "\n",
    "User Input Validation: When you want to ensure that user input meets specific criteria, you can use a while loop to repeatedly prompt the user until valid input is provided.\n",
    "\n",
    "Searching and Processing Data: While loops are useful for searching through data until a specific condition, such as finding a particular item or reaching the end of a dataset, is met.\n",
    "\n",
    "Real-Time Control: In applications involving real-time control or simulations, while loops can keep a process running until certain conditions are satisfied.\n",
    "\n",
    "Implementing Games and Interactive Applications: Games often use while loops to continuously update game states and respond to user actions.\n",
    "\n",
    "Event Handling: While loops can be used for event-driven programming to process events or messages as long as there are events to handle.\n",
    "\n",
    "Example of Using a While Loop:\n",
    "\n",
    "Here's an example of using a while loop to repeatedly prompt the user for a positive number until valid input is provided:\n",
    "while True:\n",
    "    try:\n",
    "        user_input = int(input(\"Enter a positive number: \"))\n",
    "        if user_input > 0:\n",
    "            print(f\"You entered a positive number: {user_input}\")\n",
    "            break  # Exit the loop when valid input is provided\n",
    "        else:\n",
    "            print(\"Please enter a positive number.\")\n",
    "    except ValueError:\n",
    "        print(\"Invalid input. Please enter a valid number.\")\n",
    "\"\"\""
   ]
  },
  {
   "cell_type": "code",
   "execution_count": 1,
   "id": "c85b5123",
   "metadata": {},
   "outputs": [
    {
     "name": "stdout",
     "output_type": "stream",
     "text": [
      "* \n",
      "* * \n",
      "* * * \n",
      "* * * * \n",
      "---------------------------------\n",
      "* * * * \n",
      "* * * * \n",
      "* * * * \n",
      "* * * * \n",
      "---------------------------------\n",
      "      * \n",
      "    * * \n",
      "  * * * \n",
      "* * * * \n"
     ]
    }
   ],
   "source": [
    "# solution 6\n",
    "\n",
    "rows = 4\n",
    "i = 1\n",
    "\n",
    "while i <= rows:\n",
    "    j = 1\n",
    "    while j <= i:\n",
    "        print(\"*\", end=\" \")\n",
    "        j += 1\n",
    "    print(\"\")\n",
    "    i += 1\n",
    "print(\"---------------------------------\")\n",
    "\n",
    "rows = 4\n",
    "i = 1\n",
    "\n",
    "while i <= rows:\n",
    "    j = 1\n",
    "    while j <= rows:\n",
    "        print(\"*\", end=\" \")\n",
    "        j += 1\n",
    "    print(\"\")\n",
    "    i += 1\n",
    "print(\"---------------------------------\")\n",
    "\n",
    "rows = 4\n",
    "i = 1\n",
    "\n",
    "while i <= rows:\n",
    "    spaces = rows - i\n",
    "    while spaces > 0:\n",
    "        print(\" \", end=\" \")\n",
    "        spaces -= 1\n",
    "    \n",
    "    j = 1\n",
    "    while j <= i:\n",
    "        print(\"*\", end=\" \")\n",
    "        j += 1\n",
    "    print(\"\")\n",
    "    i += 1\n"
   ]
  },
  {
   "cell_type": "code",
   "execution_count": 2,
   "id": "81db6d64",
   "metadata": {},
   "outputs": [
    {
     "name": "stdout",
     "output_type": "stream",
     "text": [
      "10\n",
      "9\n",
      "8\n",
      "7\n",
      "6\n",
      "5\n",
      "4\n",
      "3\n",
      "2\n",
      "1\n"
     ]
    }
   ],
   "source": [
    "# solution 7\n",
    "\n",
    "number = 10\n",
    "while number>=1:\n",
    "    print(number)\n",
    "    number -= 1\n",
    "    "
   ]
  },
  {
   "cell_type": "code",
   "execution_count": null,
   "id": "20964a91",
   "metadata": {},
   "outputs": [],
   "source": []
  }
 ],
 "metadata": {
  "kernelspec": {
   "display_name": "Python 3 (ipykernel)",
   "language": "python",
   "name": "python3"
  },
  "language_info": {
   "codemirror_mode": {
    "name": "ipython",
    "version": 3
   },
   "file_extension": ".py",
   "mimetype": "text/x-python",
   "name": "python",
   "nbconvert_exporter": "python",
   "pygments_lexer": "ipython3",
   "version": "3.9.7"
  }
 },
 "nbformat": 4,
 "nbformat_minor": 5
}
